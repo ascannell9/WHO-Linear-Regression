{
 "cells": [
  {
   "cell_type": "markdown",
   "id": "64b48311-439e-4468-aec0-04148464870a",
   "metadata": {},
   "source": [
    "# World Health Organisation"
   ]
  },
  {
   "cell_type": "markdown",
   "id": "83ad0377-903d-445b-89d3-154df34a35ad",
   "metadata": {},
   "source": [
    "## The Function"
   ]
  },
  {
   "cell_type": "markdown",
   "id": "a0fe4eb5-c08a-4142-8c2f-7ef1c06aa9fe",
   "metadata": {},
   "source": [
    "#### This function is case insensitive and repromts users to insert numeric only"
   ]
  },
  {
   "cell_type": "code",
   "execution_count": null,
   "id": "d883a9e7-3269-4b6e-9e4f-0b3d75e932d5",
   "metadata": {
    "tags": []
   },
   "outputs": [],
   "source": [
    "# importing necessary libraries\n",
    "\n",
    "import pandas as pd\n",
    "import numpy as np\n",
    "import matplotlib.pyplot as plt\n",
    "import seaborn as sns\n"
   ]
  },
  {
   "cell_type": "code",
   "execution_count": null,
   "id": "f35898d4-254a-4aa7-ac2b-2e77ad1ca098",
   "metadata": {
    "tags": []
   },
   "outputs": [],
   "source": [
    "def input_in_range(prompt: str, min_value: float, max_value = None):\n",
    "    '''This function prompts for user input in a valid range'''\n",
    "    while True:\n",
    "        try:\n",
    "            # Form prompt including range\n",
    "            prompt_str = f\"{prompt} [{min_value}, {max_value}]:\" if max_value else f\"{prompt} [> {min_value}]\"\n",
    "            # Ask for the string from the user\n",
    "            data_str = input(prompt_str)\n",
    "            # If nothing was entered - return None\n",
    "            if data_str == '':\n",
    "                return None\n",
    "            # Try converting to float\n",
    "            data = float(data_str)\n",
    "            # Check the range\n",
    "            if data < min_value:\n",
    "                continue\n",
    "            if max_value is not None:\n",
    "                if data > max_value:\n",
    "                    continue\n",
    "            # If all was fine return the value\n",
    "            return data\n",
    "        except ValueError:\n",
    "            continue\n",
    "            \n",
    "def input_as_bool(prompt: str):\n",
    "    '''Returns 0 if entered N otherwise 1'''\n",
    "    while True:\n",
    "        string = input(f\"{prompt} [Y/N]\")\n",
    "        if string == '':\n",
    "            return None\n",
    "        if string.upper() == 'Y':\n",
    "            return 1\n",
    "        if string.upper() == 'N':\n",
    "            return 0"
   ]
  },
  {
   "cell_type": "code",
   "execution_count": null,
   "id": "48bb9adc-b459-478d-b1f8-81c7ad6e1700",
   "metadata": {
    "tags": []
   },
   "outputs": [],
   "source": [
    "## The function that can run DOT99's model on any data provided\n",
    "\n",
    "def Life_expectancy_model(minimal_model,bp_model):\n",
    "    '''This function is case sensitive - so please follow the input guidelines'''\n",
    "    coefs=[]\n",
    "    data_lst=[]\n",
    "    sensitive=input(\"Do you consent to using advanced population data, which may include protected information, for better accuracy (Y/N)?\")\n",
    "    if sensitive.upper()=='N': \n",
    "        model=minimal_model # if answer no, minimalistic model to be used\n",
    "    else:\n",
    "        model=bp_model # if answer yes, best performing model\n",
    "        \n",
    "    for i in range(1,model.Features.count()): # create a loop that allows user to specify which columns they have data for and can then create \n",
    "        # a new set of columns in the model for the target to be predicted\n",
    "        # Features represents the column name in the models dataframe - with the other column called Coefficient\n",
    "        feature = model['Features'][i]\n",
    "        prompt = f\"Please enter the data for {feature}\"\n",
    "        \n",
    "        match feature:\n",
    "            case 'Year_rob':\n",
    "                data = input_in_range(prompt, 2000, 2035)\n",
    "            case 'Hepatitis_B' | 'Thinness_ten_nineteen_years':\n",
    "                data = input_in_range(prompt, 0, 100)\n",
    "            case 'Infant_deaths' | 'Under_five_deaths' | 'Adult_mortality' | 'Incidents_HIV':\n",
    "                data = input_in_range(prompt, 0, 1000)\n",
    "            case 'BMI' | 'GDP_rob' | 'Schooling':\n",
    "                data = input_in_range(prompt, 0)\n",
    "            case _:\n",
    "                data = input_as_bool(prompt)\n",
    "        \n",
    "        # Check the entered result and skip if nothing was entered\n",
    "        if data is None:\n",
    "            continue\n",
    "        \n",
    "        # Add coefficient\n",
    "        coefs.append(model.Coefficient[i])\n",
    "        \n",
    "        # Cover special cases for year and gdp and scale them\n",
    "        match feature:\n",
    "            case 'Year_rob':\n",
    "                data = (data-2007.5)/(2011.25-2003.75) # robust scaling formula with median, Q3 and Q1 values of Year\n",
    "            case 'GDP_rob':\n",
    "                data = (data-4217)/(12557-1415.75) # robust scaling formual with median, Q3 and Q1 values of GDP\n",
    "        \n",
    "        # Append data\n",
    "        data_lst.append(data)\n",
    "        \n",
    "    # y=mx+c\n",
    "    life_expectancy_pred=[] # creating a list to be summed to get target predictions\n",
    "    life_expectancy_pred.append(model.Coefficient[0]) # add constant from the chosen model into list\n",
    "    for j in range(len(coefs)):\n",
    "        life_expectancy_pred.append(coefs[j]*data_lst[j]) # append each multiplication of coefficient and data into list\n",
    "        \n",
    "    return round(sum(life_expectancy_pred), 1) # sum and round the values\n",
    "    # in the list to give prediction of life expectancy\n",
    "    # y=c+mx(year)+mx(bmi)+...+...+..."
   ]
  },
  {
   "cell_type": "code",
   "execution_count": null,
   "id": "d805e8fc-c565-454c-a8e6-eaad9e799c19",
   "metadata": {
    "tags": []
   },
   "outputs": [],
   "source": [
    "# Opening best performing model data\n",
    "\n",
    "bp_model = pd.read_csv('Data/bp_model.csv')\n",
    "bp_model"
   ]
  },
  {
   "cell_type": "code",
   "execution_count": null,
   "id": "12855047-7eac-4fac-9592-6a2c7b511155",
   "metadata": {
    "tags": []
   },
   "outputs": [],
   "source": [
    "# Opening minimal model data\n",
    "\n",
    "minimal_model = pd.read_csv('Data/minimal_model.csv')\n",
    "minimal_model"
   ]
  },
  {
   "cell_type": "markdown",
   "id": "e9b6c8af-a6fb-4f7c-9587-81b0020a0f5c",
   "metadata": {},
   "source": [
    "## Call the function"
   ]
  },
  {
   "cell_type": "code",
   "execution_count": null,
   "id": "80111e72-ef12-4bf4-ac72-017e58f9a8d8",
   "metadata": {
    "tags": []
   },
   "outputs": [],
   "source": [
    "expected_death_age = Life_expectancy_model(minimal_model, bp_model)\n",
    "print(f\"{expected_death_age} is the life expectancy predicted (rounded to 1 dp)\") # print prediction\n"
   ]
  },
  {
   "cell_type": "markdown",
   "id": "52083182-3fc3-49b1-bd82-eedce60badf2",
   "metadata": {},
   "source": [
    "#### Data to check against"
   ]
  },
  {
   "cell_type": "markdown",
   "id": "5da3775f-585b-4187-a685-1ff70a758005",
   "metadata": {},
   "source": [
    "Finland:\n",
    "<li> \n",
    "    Year = 2012 </li>\n",
    "<li>\n",
    "    Infant deaths = 2.3 </li>\n",
    "<li>\n",
    "    Under five deaths = 2.8 </li>\n",
    "<li>\n",
    "    Adult mortality = 79.341 </li>\n",
    "<li>    \n",
    "    Hepatitis B = 88 </li>\n",
    "<li>    \n",
    "    BMI = 26 </li>\n",
    "<li>    \n",
    "    Incidents HIV = 0.08 </li>\n",
    "<li>    \n",
    "    GDP = 43637 </li>\n",
    "<li>    \n",
    "    Thinness ten-nineteen years = 0.9 </li>\n",
    "<li>    \n",
    "    Schooling = 12.4 </li>\n",
    "<li>    \n",
    "    Economy status developed = 1 </li>\n",
    "<li>    \n",
    "    Region = European Union </li>\n",
    "<li>    \n",
    "     <b>Life expectancy = 80.6 </b>\n",
    "</li>"
   ]
  },
  {
   "cell_type": "code",
   "execution_count": null,
   "id": "de13b03c-612c-4308-b2b6-b4b9071bac18",
   "metadata": {},
   "outputs": [],
   "source": []
  }
 ],
 "metadata": {
  "kernelspec": {
   "display_name": "Python 3",
   "language": "python",
   "name": "python3"
  },
  "language_info": {
   "codemirror_mode": {
    "name": "ipython",
    "version": 3
   },
   "file_extension": ".py",
   "mimetype": "text/x-python",
   "name": "python",
   "nbconvert_exporter": "python",
   "pygments_lexer": "ipython3",
   "version": "3.8.8"
  }
 },
 "nbformat": 4,
 "nbformat_minor": 5
}
